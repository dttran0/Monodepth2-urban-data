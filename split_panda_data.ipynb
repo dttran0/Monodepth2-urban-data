{
 "cells": [
  {
   "cell_type": "code",
   "execution_count": 11,
   "metadata": {},
   "outputs": [],
   "source": [
    "import os\n",
    "import random\n",
    "from sklearn.model_selection import KFold\n",
    "from pathlib import Path\n",
    "import shutil "
   ]
  },
  {
   "cell_type": "code",
   "execution_count": 12,
   "metadata": {},
   "outputs": [
    {
     "name": "stdout",
     "output_type": "stream",
     "text": [
      "3319\n"
     ]
    }
   ],
   "source": [
    "dirpath = \"C:/Users/trand/Berkeley_Inter/PANDA_dataset\"\n",
    "paths = sorted(Path(dirpath).iterdir(), key=os.path.getmtime)\n",
    "print(len(paths))\n",
    "\n",
    "#for Nico\n",
    "new_path = paths[:10]"
   ]
  },
  {
   "cell_type": "code",
   "execution_count": 13,
   "metadata": {},
   "outputs": [],
   "source": [
    "train_ratio = 0.8\n",
    "val_ratio = 0.1\n",
    "test_ratio = 0.1\n",
    "\n",
    "# Shuffle the data\n",
    "random.shuffle(paths)\n",
    "\n",
    "# Calculate split indices\n",
    "train_split = int(len(paths) * train_ratio)\n",
    "val_split = int(len(paths) * (train_ratio + val_ratio))\n",
    "\n",
    "# Split the data into training, validation, and testing sets\n",
    "train_image_paths = paths[:train_split]\n",
    "val_image_paths = paths[train_split:val_split]\n",
    "test_image_paths = paths[val_split:]\n",
    "\n",
    "\n",
    "# Write the paths of the training data to a text file\n",
    "with open(\"train_files1.txt\", 'w') as file:\n",
    "    for image_path in train_image_paths:\n",
    "        image_list = str(image_path).split(\"\\\\\")[-1].split(\".\")\n",
    "        image_name = image_list[0] + \".\" + image_list[1]\n",
    "        file.write(f\"{image_name}\\n\")\n",
    "\n",
    "# Write the paths of the validation data to a text file\n",
    "with open(\"val_files1.txt\", 'w') as file:\n",
    "    for image_path in val_image_paths:\n",
    "        image_list = str(image_path).split(\"\\\\\")[-1].split(\".\")\n",
    "        image_name = image_list[0] + \".\" + image_list[1]\n",
    "        file.write(f\"{image_name}\\n\")\n",
    "\n",
    "# Write the paths of the testing data to a text file\n",
    "with open(\"test_files1.txt\", 'w') as file:\n",
    "    for image_path in test_image_paths:\n",
    "        image_list = str(image_path).split(\"\\\\\")[-1].split(\".\")\n",
    "        image_name = image_list[0] + \".\" + image_list[1]\n",
    "        file.write(f\"{image_name}\\n\")"
   ]
  },
  {
   "cell_type": "code",
   "execution_count": 11,
   "metadata": {},
   "outputs": [],
   "source": [
    "#for Nico sampling only 10 data\n",
    "\n",
    "train_ratio = 0.8\n",
    "val_ratio = 0.1\n",
    "test_ratio = 0.1\n",
    "\n",
    "# Shuffle the data\n",
    "random.shuffle(new_path)\n",
    "\n",
    "# Calculate split indices\n",
    "train_split = int(len(new_path) * train_ratio)\n",
    "val_split = int(len(new_path) * (train_ratio + val_ratio))\n",
    "\n",
    "# Split the data into training, validation, and testing sets\n",
    "train_image_paths = new_path[:train_split]\n",
    "val_image_paths = new_path[train_split:val_split]\n",
    "test_image_paths = new_path[val_split:]\n",
    "\n",
    "\n",
    "# Write the paths of the training data to a text file\n",
    "with open(\"train_paths.txt\", 'w') as file:\n",
    "    for image_path in train_image_paths:\n",
    "        image_list = str(image_path).split(\"\\\\\")[-1].split(\".\")\n",
    "        image_name = image_list[0] + \".\" + image_list[1]\n",
    "        file.write(f\"{image_name}\\n\")\n",
    "\n",
    "# Write the paths of the validation data to a text file\n",
    "with open(\"val_paths.txt\", 'w') as file:\n",
    "    for image_path in val_image_paths:\n",
    "        image_list = str(image_path).split(\"\\\\\")[-1].split(\".\")\n",
    "        image_name = image_list[0] + \".\" + image_list[1]\n",
    "        file.write(f\"{image_name}\\n\")\n",
    "\n",
    "# Write the paths of the testing data to a text file\n",
    "with open(\"test_paths.txt\", 'w') as file:\n",
    "    for image_path in test_image_paths:\n",
    "        image_list = str(image_path).split(\"\\\\\")[-1].split(\".\")\n",
    "        image_name = image_list[0] + \".\" + image_list[1]\n",
    "        file.write(f\"{image_name}\\n\")\n",
    "\n",
    "\n",
    "folder1 = \"C:/Users/trand/monodepth2/panda_training\"\n",
    "\n",
    "for image_path in train_image_paths:\n",
    "    # Get the file name from the image path\n",
    "    file_name = os.path.basename(image_path)\n",
    "    \n",
    "    # Construct the destination path in the output folder\n",
    "    destination_path = os.path.join(folder1, file_name)\n",
    "    \n",
    "    # Copy the image to the output folder\n",
    "    shutil.copy(image_path, destination_path)\n",
    "\n",
    "folder2 = \"C:/Users/trand/monodepth2/panda_testing\" \n",
    "for image_path in test_image_paths:\n",
    "    # Get the file name from the image path\n",
    "    file_name = os.path.basename(image_path)\n",
    "    \n",
    "    # Construct the destination path in the output folder\n",
    "    destination_path = os.path.join(folder2, file_name)\n",
    "    \n",
    "    # Copy the image to the output folder\n",
    "    shutil.copy(image_path, destination_path)\n",
    "\n",
    "folder3 = \"C:/Users/trand/monodepth2/panda_validation\"\n",
    "\n",
    "for image_path in val_image_paths:\n",
    "    # Get the file name from the image path\n",
    "    file_name = os.path.basename(image_path)\n",
    "    \n",
    "    # Construct the destination path in the output folder\n",
    "    destination_path1 = os.path.join(folder3, file_name)\n",
    "    \n",
    "    destination_path2 = os.path.join(folder1, file_name)\n",
    "\n",
    "    # Copy the image to the output folder\n",
    "    shutil.copy(image_path, destination_path2)\n",
    "\n",
    "    if not os.path.exists(destination_path1):\n",
    "        # Copy the image to folder1 if it doesn't already exist\n",
    "        shutil.copy(image_path, destination_path1)"
   ]
  },
  {
   "cell_type": "code",
   "execution_count": 15,
   "metadata": {},
   "outputs": [],
   "source": [
    "folder1 = \"C:/Users/trand/monodepth2/panda_training_data_real\"\n",
    "\n",
    "for image_path in train_image_paths:\n",
    "    # Get the file name from the image path\n",
    "    file_name = os.path.basename(image_path)\n",
    "    \n",
    "    # Construct the destination path in the output folder\n",
    "    destination_path = os.path.join(folder1, file_name)\n",
    "    \n",
    "    # Copy the image to the output folder\n",
    "    shutil.copy(image_path, destination_path)"
   ]
  },
  {
   "cell_type": "code",
   "execution_count": 16,
   "metadata": {},
   "outputs": [],
   "source": [
    "folder2 = \"C:/Users/trand/monodepth2/panda_testing_data_real\"\n",
    "\n",
    "for image_path in test_image_paths:\n",
    "    # Get the file name from the image path\n",
    "    file_name = os.path.basename(image_path)\n",
    "    \n",
    "    # Construct the destination path in the output folder\n",
    "    destination_path = os.path.join(folder2, file_name)\n",
    "    \n",
    "    # Copy the image to the output folder\n",
    "    shutil.copy(image_path, destination_path)"
   ]
  },
  {
   "cell_type": "code",
   "execution_count": null,
   "metadata": {},
   "outputs": [],
   "source": [
    "# folder3 = \"C:/Users/trand/monodepth2/panda_testing_data\"\n",
    "\n",
    "# for image_path in test_image_paths:\n",
    "#     # Get the file name from the image path\n",
    "#     file_name = os.path.basename(image_path)\n",
    "    \n",
    "#     # Construct the destination path in the output folder\n",
    "#     destination_path = os.path.join(folder3, file_name)\n",
    "    \n",
    "#     # Copy the image to the output folder\n",
    "#     shutil.copy(image_path, destination_path)"
   ]
  },
  {
   "cell_type": "code",
   "execution_count": 17,
   "metadata": {},
   "outputs": [],
   "source": [
    "folder3 = \"C:/Users/trand/monodepth2/panda_validation_data_real\"\n",
    "\n",
    "for image_path in val_image_paths:\n",
    "    # Get the file name from the image path\n",
    "    file_name = os.path.basename(image_path)\n",
    "    \n",
    "    # Construct the destination path in the output folder\n",
    "    destination_path1 = os.path.join(folder3, file_name)\n",
    "    \n",
    "    destination_path2 = os.path.join(folder1, file_name)\n",
    "\n",
    "    # Copy the image to the output folder\n",
    "    shutil.copy(image_path, destination_path2)\n",
    "\n",
    "    if not os.path.exists(destination_path1):\n",
    "        # Copy the image to folder1 if it doesn't already exist\n",
    "        shutil.copy(image_path, destination_path1)"
   ]
  },
  {
   "cell_type": "code",
   "execution_count": 3,
   "metadata": {},
   "outputs": [
    {
     "name": "stdout",
     "output_type": "stream",
     "text": [
      "0000000001png\n"
     ]
    },
    {
     "ename": "KeyError",
     "evalue": "'None'",
     "output_type": "error",
     "traceback": [
      "\u001b[1;31m---------------------------------------------------------------------------\u001b[0m",
      "\u001b[1;31mKeyError\u001b[0m                                  Traceback (most recent call last)",
      "\u001b[1;32mc:\\Users\\trand\\monodepth2\\split_panda_data.ipynb Cell 9\u001b[0m line \u001b[0;36m4\n\u001b[0;32m      <a href='vscode-notebook-cell:/c%3A/Users/trand/monodepth2/split_panda_data.ipynb#X11sZmlsZQ%3D%3D?line=1'>2</a>\u001b[0m \u001b[39mprint\u001b[39m(f_str)\n\u001b[0;32m      <a href='vscode-notebook-cell:/c%3A/Users/trand/monodepth2/split_panda_data.ipynb#X11sZmlsZQ%3D%3D?line=2'>3</a>\u001b[0m side_map \u001b[39m=\u001b[39m {\u001b[39m\"\u001b[39m\u001b[39m2\u001b[39m\u001b[39m\"\u001b[39m: \u001b[39m2\u001b[39m, \u001b[39m\"\u001b[39m\u001b[39m3\u001b[39m\u001b[39m\"\u001b[39m: \u001b[39m3\u001b[39m, \u001b[39m\"\u001b[39m\u001b[39ml\u001b[39m\u001b[39m\"\u001b[39m: \u001b[39m2\u001b[39m, \u001b[39m\"\u001b[39m\u001b[39mr\u001b[39m\u001b[39m\"\u001b[39m: \u001b[39m3\u001b[39m}\n\u001b[1;32m----> <a href='vscode-notebook-cell:/c%3A/Users/trand/monodepth2/split_panda_data.ipynb#X11sZmlsZQ%3D%3D?line=3'>4</a>\u001b[0m \u001b[39mprint\u001b[39m(side_map[\u001b[39m'\u001b[39;49m\u001b[39mNone\u001b[39;49m\u001b[39m'\u001b[39;49m])\n",
      "\u001b[1;31mKeyError\u001b[0m: 'None'"
     ]
    }
   ],
   "source": [
    "f_str = \"{:010d}{}\".format(1, \"png\")\n",
    "print(f_str)\n",
    "side_map = {\"2\": 2, \"3\": 3, \"l\": 2, \"r\": 3}\n",
    "print(side_map['None'])"
   ]
  },
  {
   "cell_type": "code",
   "execution_count": 6,
   "metadata": {},
   "outputs": [
    {
     "name": "stdout",
     "output_type": "stream",
     "text": [
      "C:/Users/trand/monodepth2/panda_training_data\\1693712708.3002279.png\n"
     ]
    }
   ],
   "source": [
    "image_path = os.path.join(\n",
    "            \"C:/Users/trand/monodepth2/panda_training_data\", \"1693712708.3002279\" +\".png\"  )\n",
    "print(image_path)"
   ]
  },
  {
   "cell_type": "code",
   "execution_count": 8,
   "metadata": {},
   "outputs": [
    {
     "name": "stdout",
     "output_type": "stream",
     "text": [
      "C:/Users/trand/monodepth2/panda_training/1693700548.111868.png\n"
     ]
    }
   ],
   "source": [
    "data_path = 'C:/Users/trand/monodepth2/panda_training'\n",
    "folder = '1693700548.111868.png'\n",
    "image_path = os.path.join(data_path, folder)\n",
    "\n",
    "# Convert backslashes to forward slashes\n",
    "image_path = image_path.replace(\"\\\\\", \"/\")\n",
    "\n",
    "print(image_path)\n"
   ]
  },
  {
   "cell_type": "code",
   "execution_count": null,
   "metadata": {},
   "outputs": [],
   "source": []
  }
 ],
 "metadata": {
  "kernelspec": {
   "display_name": "base",
   "language": "python",
   "name": "python3"
  },
  "language_info": {
   "codemirror_mode": {
    "name": "ipython",
    "version": 3
   },
   "file_extension": ".py",
   "mimetype": "text/x-python",
   "name": "python",
   "nbconvert_exporter": "python",
   "pygments_lexer": "ipython3",
   "version": "3.9.18"
  }
 },
 "nbformat": 4,
 "nbformat_minor": 2
}
